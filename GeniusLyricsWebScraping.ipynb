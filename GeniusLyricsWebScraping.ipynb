{
 "cells": [
  {
   "cell_type": "markdown",
   "metadata": {},
   "source": [
    "# Overview\n",
    "This small project was just to get some practice with basic web scraping with some practical application. I'd been impressed before by people analyzing lyrics of songs, so I used web scraping to scrape the lyrics of the top ten songs trending on genius lyrics. I wrote an article on Medium (https://medium.com/analytics-vidhya/basic-web-scraping-d6bb44118304) walking through the code that was curated in Data Science and Programming, and published in Analytics Vidhya."
   ]
  },
  {
   "cell_type": "markdown",
   "metadata": {},
   "source": [
    "### Import packages"
   ]
  },
  {
   "cell_type": "code",
   "execution_count": 1,
   "metadata": {},
   "outputs": [],
   "source": [
    "import requests\n",
    "from bs4 import BeautifulSoup"
   ]
  },
  {
   "cell_type": "markdown",
   "metadata": {},
   "source": [
    "### Http request to Genius Lyrics home page"
   ]
  },
  {
   "cell_type": "code",
   "execution_count": 2,
   "metadata": {},
   "outputs": [],
   "source": [
    "home_page = requests.get('https://genius.com/')"
   ]
  },
  {
   "cell_type": "markdown",
   "metadata": {},
   "source": [
    "### Create BeautifulSoup object"
   ]
  },
  {
   "cell_type": "code",
   "execution_count": 3,
   "metadata": {},
   "outputs": [],
   "source": [
    "html = BeautifulSoup(home_page.content, 'html.parser')"
   ]
  },
  {
   "cell_type": "markdown",
   "metadata": {},
   "source": [
    "### Get link elements to find lyrics pages"
   ]
  },
  {
   "cell_type": "code",
   "execution_count": 4,
   "metadata": {},
   "outputs": [],
   "source": [
    "links = html.find_all('a', class_='PageGriddesktop-a6v82w-0 ChartItemdesktop__Row-sc-3bmioe-0 qsIlk')"
   ]
  },
  {
   "cell_type": "markdown",
   "metadata": {},
   "source": [
    "### Get the first url and try out extracting lyrics from it"
   ]
  },
  {
   "cell_type": "code",
   "execution_count": 5,
   "metadata": {},
   "outputs": [],
   "source": [
    "url = links[0].get('href')"
   ]
  },
  {
   "cell_type": "code",
   "execution_count": 6,
   "metadata": {},
   "outputs": [],
   "source": [
    "lyrics_page = requests.get(url)\n",
    "lyrics_page_html = BeautifulSoup(lyrics_page.content, 'html.parser')"
   ]
  },
  {
   "cell_type": "code",
   "execution_count": 7,
   "metadata": {},
   "outputs": [],
   "source": [
    "lyrics_div = lyrics_page_html.find_all('div', class_='lyrics')"
   ]
  },
  {
   "cell_type": "code",
   "execution_count": 17,
   "metadata": {},
   "outputs": [
    {
     "data": {
      "text/plain": [
       "['',\n",
       " '',\n",
       " '[블랙핑크 \"How You Like That\" 가사]',\n",
       " '',\n",
       " '[Intro: Lisa]',\n",
       " 'BLACKPINK in your area',\n",
       " '',\n",
       " '[Verse 1: Jennie & Jisoo]',\n",
       " '보란 듯이 무너졌어',\n",
       " '바닥을 뚫고 저 지하까지',\n",
       " '옷 끝자락 잡겠다고',\n",
       " '저 높이 두 손을 뻗어봐도',\n",
       " '',\n",
       " '[Pre-Chorus: Rosé]',\n",
       " '다시\\u2005캄캄한\\u2005이곳에 light up\\u2005the sky',\n",
       " \"네 두 눈을 보며 I'll\\u2005kiss you bye\",\n",
       " '실컷 비웃어라 꼴좋으니까',\n",
       " '이제 너희 하나 둘 셋',\n",
       " '',\n",
       " '[Chorus: Jennie, Lisa, & Jisoo]',\n",
       " 'Ha, how you like that? (Woo)',\n",
       " \"You gon' like that, that-that-that, that, that-that-that, that\",\n",
       " 'How you like that? (Bada bing, bada boom, boom, boom)',\n",
       " 'How you like that, that-that-that, that, that-that-that, that?',\n",
       " '',\n",
       " '[Post-Chorus: Lisa, Rosé, Jennie]',\n",
       " 'Now, look at you, now look at me (Uh)',\n",
       " 'Look at you, now look at me (Uh)',\n",
       " 'Look at you, now look at me',\n",
       " 'How you like that?',\n",
       " 'Now, look at you, now look at me (Uh)',\n",
       " 'Look at you, now look at me (Uh)',\n",
       " 'Look at you, now look at me',\n",
       " 'How you like that?',\n",
       " '',\n",
       " '[Verse 2: Lisa]',\n",
       " \"Your girl need it all and that's a hundred\",\n",
       " '백 개 중에 백 내 몫을 원해',\n",
       " 'Karma come and get some',\n",
       " '딱하지만 어쩔 수 없잖아',\n",
       " \"What's up? I’m right back\",\n",
       " '방아쇠를 cock back',\n",
       " \"Plain Jane get hijacked, don't like me?\",\n",
       " 'Then tell me how you like that, like that',\n",
       " '',\n",
       " '[Pre-Chorus: Jennie & Jisoo]',\n",
       " '더 캄캄한 이곳에 shine like the stars',\n",
       " \"그 미소를 띠며 I'll kiss you goodbye\",\n",
       " '실컷 비웃어라 꼴좋으니까',\n",
       " '이제 너희 하나 둘 셋',\n",
       " '',\n",
       " '[Chorus: Rosé, Jennie, Jisoo & Lisa]',\n",
       " 'Ha, how you like that? (Woo)',\n",
       " \"You gon' like that, that-that-that, that, that-that-that, that\",\n",
       " 'How you like that? (Bada bing, bada boom, boom, boom)',\n",
       " 'How you like that, that-that-that, that, that-that-that, that?',\n",
       " '',\n",
       " '[Post-Chorus: Lisa, Rosé, Jennie]',\n",
       " 'Now, look at you, now look at me (Uh)',\n",
       " 'Look at you, now look at me (Uh)',\n",
       " 'Look at you, now look at me',\n",
       " 'How you like that?',\n",
       " 'Now, look at you now, look at me (Uh)',\n",
       " 'Look at you, now look at me (Uh)',\n",
       " 'Look at you, now look at me',\n",
       " 'How you like that?',\n",
       " '',\n",
       " '[Bridge: Rosé, Jisoo, Lisa & All]',\n",
       " '날개 잃은 채로 추락했던 날',\n",
       " '어두운 나날 속에 갇혀 있던 날',\n",
       " '그때쯤에 넌 날 끝내야 했어',\n",
       " 'Look up in the sky',\n",
       " \"It's a bird, it's a plane\",\n",
       " 'Yeah-eah-eah-eah',\n",
       " 'Bring out your boss bitch',\n",
       " 'Yeah-eah-eah-eah',\n",
       " 'BLACKPINK!',\n",
       " '',\n",
       " '[Outro: All, Rosé & Jennie]',\n",
       " 'Ddu, ddu, ddu, ddu-ddu-ddu',\n",
       " 'Ddu, ddu, ddu, ddu-ddu-ddu',\n",
       " 'How you like that?',\n",
       " 'Ddu, ddu, ddu, ddu-ddu-ddu',\n",
       " 'Ddu, ddu, ddu, du-du-du-ddu',\n",
       " \"You gon' like that\",\n",
       " 'Ddu, ddu, ddu, ddu-ddu-ddu',\n",
       " 'Ddu, ddu, ddu, ddu-ddu-ddu',\n",
       " 'How you like that?',\n",
       " 'Ddu, ddu, ddu, ddu-ddu-ddu',\n",
       " 'Ddu, ddu, ddu, du-du-du-ddu',\n",
       " '',\n",
       " '']"
      ]
     },
     "execution_count": 17,
     "metadata": {},
     "output_type": "execute_result"
    }
   ],
   "source": [
    "lines = (lyrics_div[0].text).split('\\n')\n",
    "lines"
   ]
  },
  {
   "cell_type": "markdown",
   "metadata": {},
   "source": [
    "### Loop through all ten and store lyrics in a dictionary"
   ]
  },
  {
   "cell_type": "code",
   "execution_count": 23,
   "metadata": {},
   "outputs": [],
   "source": [
    "n_links = len(links)\n",
    "song_lyrics = {}\n",
    "for i in range(n_links):\n",
    "    url = links[i].get('href')\n",
    "    lyrics_page = requests.get(url)\n",
    "    lyrics_page_html = BeautifulSoup(lyrics_page.content, 'html.parser')\n",
    "    \n",
    "    lyrics_div = lyrics_page_html.find_all('div', class_='lyrics')\n",
    "    lines = (lyrics_div[0].text).split('\\n')\n",
    "    \n",
    "    title_elements = lyrics_page_html.find_all('h1', class_='header_with_cover_art-primary_info-title')\n",
    "    title = title_elements[0].text\n",
    "    \n",
    "    song_lyrics[title] = lines"
   ]
  },
  {
   "cell_type": "code",
   "execution_count": 30,
   "metadata": {},
   "outputs": [
    {
     "name": "stdout",
     "output_type": "stream",
     "text": [
      "How You Like That ['', '', '[블랙핑크 \"How You Like That\" 가사]', '']\n",
      "Parasite Eve ['', '', '[Intro: Le Mystère des Voix Bulgares]', 'Накривил е калпачето ей така, па така']\n",
      "WHATS POPPIN (Remix) ['', '', '[Verse 1: Jack Harlow]', 'Back with the remix']\n",
      "Cadillac ['', '', '[Текст песни \"Cadillac\"]', '']\n",
      "Girls in the Hood ['', '', '[Verse 1]', \"Fuck bein' good, I'm a bad bitch (Ah)\"]\n",
      "Medellin ['', '', '[Testo di \"Medellin\" ft. Lazza]', '']\n",
      "BLACK PARADE ['', '', '[Intro]', 'Ah']\n",
      "Stick That in Your Country Song ['', '', '[Verse 1]', 'Take me on up to Detroit City']\n",
      "Had Enough ['', '', '[Intro]', 'Uh']\n",
      "Ti Levo Le Collane ['', '', '[Testo di \"Ti Levo Le Collane\" ft. Paky]', '']\n"
     ]
    }
   ],
   "source": [
    "for song in song_lyrics:\n",
    "    print (song, song_lyrics[song][:4])"
   ]
  }
 ],
 "metadata": {
  "kernelspec": {
   "display_name": "Python 3",
   "language": "python",
   "name": "python3"
  },
  "language_info": {
   "codemirror_mode": {
    "name": "ipython",
    "version": 3
   },
   "file_extension": ".py",
   "mimetype": "text/x-python",
   "name": "python",
   "nbconvert_exporter": "python",
   "pygments_lexer": "ipython3",
   "version": "3.6.10"
  }
 },
 "nbformat": 4,
 "nbformat_minor": 4
}
